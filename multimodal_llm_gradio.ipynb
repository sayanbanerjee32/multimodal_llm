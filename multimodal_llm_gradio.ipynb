{
  "nbformat": 4,
  "nbformat_minor": 0,
  "metadata": {
    "colab": {
      "provenance": [],
      "authorship_tag": "ABX9TyMl3OZHclQLU6Ryg/iEJPwj",
      "include_colab_link": true
    },
    "kernelspec": {
      "name": "python3",
      "display_name": "Python 3"
    },
    "language_info": {
      "name": "python"
    }
  },
  "cells": [
    {
      "cell_type": "markdown",
      "metadata": {
        "id": "view-in-github",
        "colab_type": "text"
      },
      "source": [
        "<a href=\"https://colab.research.google.com/github/sayanbanerjee32/multimodal_llm/blob/main/multimodal_llm_gradio.ipynb\" target=\"_parent\"><img src=\"https://colab.research.google.com/assets/colab-badge.svg\" alt=\"Open In Colab\"/></a>"
      ]
    },
    {
      "cell_type": "code",
      "execution_count": 1,
      "metadata": {
        "id": "aMtf-Vo9L0bo"
      },
      "outputs": [],
      "source": [
        "!pip install git+https://github.com/openai/CLIP.git\n",
        "!pip install transformers==4.45.2\n",
        "!pip install -Uq accelerate peft bitsandbytes gradio"
      ]
    },
    {
      "cell_type": "code",
      "source": [
        "# assignment repo\n",
        "!git clone https://github.com/sayanbanerjee32/multimodal_llm.git"
      ],
      "metadata": {
        "colab": {
          "base_uri": "https://localhost:8080/"
        },
        "id": "fHhNqTa-MB1d",
        "outputId": "f2ee5fd2-1ae8-4da1-ca22-9de845b03b5f"
      },
      "execution_count": 2,
      "outputs": [
        {
          "output_type": "stream",
          "name": "stdout",
          "text": [
            "Cloning into 'multimodal_llm'...\n",
            "remote: Enumerating objects: 103, done.\u001b[K\n",
            "remote: Counting objects: 100% (103/103), done.\u001b[K\n",
            "remote: Compressing objects: 100% (81/81), done.\u001b[K\n",
            "remote: Total 103 (delta 55), reused 62 (delta 22), pack-reused 0 (from 0)\u001b[K\n",
            "Receiving objects: 100% (103/103), 5.31 MiB | 9.63 MiB/s, done.\n",
            "Resolving deltas: 100% (55/55), done.\n"
          ]
        }
      ]
    },
    {
      "cell_type": "code",
      "source": [
        "## move python files to outside\n",
        "!mv multimodal_llm/*.py .\n",
        "!mv multimodal_llm/examples ."
      ],
      "metadata": {
        "id": "IbUgH_T9MNaT"
      },
      "execution_count": 3,
      "outputs": []
    },
    {
      "cell_type": "code",
      "source": [
        "from huggingface_hub import HfApi\n",
        "from google.colab import userdata\n",
        "userdata.get('HF_TOKEN')\n",
        "api = HfApi()"
      ],
      "metadata": {
        "id": "Xb95_j7jMglF"
      },
      "execution_count": 4,
      "outputs": []
    },
    {
      "cell_type": "code",
      "source": [
        "import app"
      ],
      "metadata": {
        "id": "hefvDw_lW-sL"
      },
      "execution_count": 7,
      "outputs": []
    },
    {
      "cell_type": "code",
      "source": [
        "import os\n",
        "os.makedirs('to_upload', exist_ok=True)"
      ],
      "metadata": {
        "id": "nJUST4bQMsij"
      },
      "execution_count": 8,
      "outputs": []
    },
    {
      "cell_type": "code",
      "source": [
        "!cp *.py to_upload\n",
        "!cp multimodal_llm/requirements.txt to_upload\n",
        "!cp -r examples to_upload"
      ],
      "metadata": {
        "id": "jmOPigh7NosK"
      },
      "execution_count": 9,
      "outputs": []
    },
    {
      "cell_type": "code",
      "source": [
        "api.upload_folder(\n",
        "    folder_path=\"./to_upload\",\n",
        "    repo_id=\"sayanbanerjee32/multimodal_llm_chatbot\",\n",
        "    repo_type=\"space\",\n",
        ")"
      ],
      "metadata": {
        "id": "k4Z8lHv3NsDz",
        "colab": {
          "base_uri": "https://localhost:8080/",
          "height": 69
        },
        "outputId": "195dcae9-9362-4a0e-9759-4c20444b2b5c"
      },
      "execution_count": 10,
      "outputs": [
        {
          "output_type": "execute_result",
          "data": {
            "text/plain": [
              "CommitInfo(commit_url='https://huggingface.co/spaces/sayanbanerjee32/multimodal_llm_chatbot/commit/f2c915b33f49f9b961944231f44af3a20daf8d73', commit_message='Upload folder using huggingface_hub', commit_description='', oid='f2c915b33f49f9b961944231f44af3a20daf8d73', pr_url=None, pr_revision=None, pr_num=None)"
            ],
            "application/vnd.google.colaboratory.intrinsic+json": {
              "type": "string"
            }
          },
          "metadata": {},
          "execution_count": 10
        }
      ]
    },
    {
      "cell_type": "code",
      "source": [],
      "metadata": {
        "id": "nqIjZoHI8O7-"
      },
      "execution_count": 10,
      "outputs": []
    }
  ]
}