{
  "nbformat": 4,
  "nbformat_minor": 0,
  "metadata": {
    "colab": {
      "provenance": [],
      "gpuType": "T4",
      "authorship_tag": "ABX9TyMVYKsjGdKUrF1bAIBcmCUT",
      "include_colab_link": true
    },
    "kernelspec": {
      "name": "python3",
      "display_name": "Python 3"
    },
    "language_info": {
      "name": "python"
    },
    "accelerator": "GPU"
  },
  "cells": [
    {
      "cell_type": "markdown",
      "metadata": {
        "id": "view-in-github",
        "colab_type": "text"
      },
      "source": [
        "<a href=\"https://colab.research.google.com/github/sayanbanerjee32/multimodal_llm/blob/main/compare_image_embeddings.ipynb\" target=\"_parent\"><img src=\"https://colab.research.google.com/assets/colab-badge.svg\" alt=\"Open In Colab\"/></a>"
      ]
    },
    {
      "cell_type": "code",
      "execution_count": null,
      "metadata": {
        "colab": {
          "base_uri": "https://localhost:8080/"
        },
        "id": "7YoPPxstnUUQ",
        "outputId": "8d75dc43-12c6-4508-dfa2-76135e44a96c"
      },
      "outputs": [
        {
          "output_type": "stream",
          "name": "stdout",
          "text": [
            "Collecting git+https://github.com/openai/CLIP.git\n",
            "  Cloning https://github.com/openai/CLIP.git to /tmp/pip-req-build-3yl2swx7\n",
            "  Running command git clone --filter=blob:none --quiet https://github.com/openai/CLIP.git /tmp/pip-req-build-3yl2swx7\n",
            "  Resolved https://github.com/openai/CLIP.git to commit dcba3cb2e2827b402d2701e7e1c7d9fed8a20ef1\n",
            "  Preparing metadata (setup.py) ... \u001b[?25l\u001b[?25hdone\n",
            "Collecting ftfy (from clip==1.0)\n",
            "  Downloading ftfy-6.3.0-py3-none-any.whl.metadata (7.1 kB)\n",
            "Requirement already satisfied: packaging in /usr/local/lib/python3.10/dist-packages (from clip==1.0) (24.1)\n",
            "Requirement already satisfied: regex in /usr/local/lib/python3.10/dist-packages (from clip==1.0) (2024.9.11)\n",
            "Requirement already satisfied: tqdm in /usr/local/lib/python3.10/dist-packages (from clip==1.0) (4.66.5)\n",
            "Requirement already satisfied: torch in /usr/local/lib/python3.10/dist-packages (from clip==1.0) (2.5.0+cu121)\n",
            "Requirement already satisfied: torchvision in /usr/local/lib/python3.10/dist-packages (from clip==1.0) (0.20.0+cu121)\n",
            "Requirement already satisfied: wcwidth in /usr/local/lib/python3.10/dist-packages (from ftfy->clip==1.0) (0.2.13)\n",
            "Requirement already satisfied: filelock in /usr/local/lib/python3.10/dist-packages (from torch->clip==1.0) (3.16.1)\n",
            "Requirement already satisfied: typing-extensions>=4.8.0 in /usr/local/lib/python3.10/dist-packages (from torch->clip==1.0) (4.12.2)\n",
            "Requirement already satisfied: networkx in /usr/local/lib/python3.10/dist-packages (from torch->clip==1.0) (3.4.2)\n",
            "Requirement already satisfied: jinja2 in /usr/local/lib/python3.10/dist-packages (from torch->clip==1.0) (3.1.4)\n",
            "Requirement already satisfied: fsspec in /usr/local/lib/python3.10/dist-packages (from torch->clip==1.0) (2024.6.1)\n",
            "Requirement already satisfied: sympy==1.13.1 in /usr/local/lib/python3.10/dist-packages (from torch->clip==1.0) (1.13.1)\n",
            "Requirement already satisfied: mpmath<1.4,>=1.1.0 in /usr/local/lib/python3.10/dist-packages (from sympy==1.13.1->torch->clip==1.0) (1.3.0)\n",
            "Requirement already satisfied: numpy in /usr/local/lib/python3.10/dist-packages (from torchvision->clip==1.0) (1.26.4)\n",
            "Requirement already satisfied: pillow!=8.3.*,>=5.3.0 in /usr/local/lib/python3.10/dist-packages (from torchvision->clip==1.0) (10.4.0)\n",
            "Requirement already satisfied: MarkupSafe>=2.0 in /usr/local/lib/python3.10/dist-packages (from jinja2->torch->clip==1.0) (3.0.2)\n",
            "Downloading ftfy-6.3.0-py3-none-any.whl (44 kB)\n",
            "\u001b[2K   \u001b[90m━━━━━━━━━━━━━━━━━━━━━━━━━━━━━━━━━━━━━━━━\u001b[0m \u001b[32m44.8/44.8 kB\u001b[0m \u001b[31m2.7 MB/s\u001b[0m eta \u001b[36m0:00:00\u001b[0m\n",
            "\u001b[?25hBuilding wheels for collected packages: clip\n",
            "  Building wheel for clip (setup.py) ... \u001b[?25l\u001b[?25hdone\n",
            "  Created wheel for clip: filename=clip-1.0-py3-none-any.whl size=1369489 sha256=7ebdbe6aab6e42b267f7bda6500c23983e9442831d3bcf800b917d6b51ed82db\n",
            "  Stored in directory: /tmp/pip-ephem-wheel-cache-_ofzbpws/wheels/da/2b/4c/d6691fa9597aac8bb85d2ac13b112deb897d5b50f5ad9a37e4\n",
            "Successfully built clip\n",
            "Installing collected packages: ftfy, clip\n",
            "Successfully installed clip-1.0 ftfy-6.3.0\n"
          ]
        }
      ],
      "source": [
        "!pip install git+https://github.com/openai/CLIP.git"
      ]
    },
    {
      "cell_type": "code",
      "source": [
        "from google.colab import drive\n",
        "drive.mount('/content/drive')"
      ],
      "metadata": {
        "colab": {
          "base_uri": "https://localhost:8080/"
        },
        "id": "pyo25X1mnXuo",
        "outputId": "07defe05-a344-4690-b812-45c7158d3b02"
      },
      "execution_count": null,
      "outputs": [
        {
          "output_type": "stream",
          "name": "stdout",
          "text": [
            "Mounted at /content/drive\n"
          ]
        }
      ]
    },
    {
      "cell_type": "code",
      "source": [
        "import torch\n",
        "import numpy as np\n",
        "from PIL import Image\n",
        "import clip"
      ],
      "metadata": {
        "id": "xZGCRLDSntc2"
      },
      "execution_count": null,
      "outputs": []
    },
    {
      "cell_type": "code",
      "source": [
        "def load_saved_embedding(npz_file, image_name):\n",
        "    embeddings = np.load(npz_file, allow_pickle=True)\n",
        "    return torch.from_numpy(embeddings[image_name])\n",
        "\n",
        "def generate_embedding(image_path, clip_model_name=\"ViT-B/32\"):\n",
        "    device = \"cuda\" if torch.cuda.is_available() else \"cpu\"\n",
        "    clip_model, clip_preprocess = clip.load(clip_model_name, device=device)\n",
        "\n",
        "    image = clip_preprocess(Image.open(image_path)).unsqueeze(0).to(device)\n",
        "    with torch.no_grad():\n",
        "        image_embedding = clip_model.encode_image(image).squeeze()\n",
        "\n",
        "    return image_embedding\n",
        "\n",
        "def cosine_similarity(embedding1, embedding2):\n",
        "    return torch.nn.functional.cosine_similarity(embedding1, embedding2, dim=0)\n",
        "\n",
        "def euclidean_distance(embedding1, embedding2):\n",
        "    return torch.norm(embedding1 - embedding2)\n",
        "\n",
        "def compare_embeddings(npz_file, image_name, image_path, threshold=0.95):\n",
        "    # Load saved embedding\n",
        "    saved_embedding = load_saved_embedding(npz_file, image_name)\n",
        "\n",
        "    # Generate new embedding\n",
        "    new_embedding = generate_embedding(image_path)\n",
        "\n",
        "    # Ensure both embeddings are on the same device and have the same dtype\n",
        "    saved_embedding = saved_embedding.to(new_embedding.device).to(new_embedding.dtype)\n",
        "\n",
        "    # Calculate cosine similarity\n",
        "    similarity = cosine_similarity(saved_embedding, new_embedding)\n",
        "\n",
        "    # Calculate Euclidean distance\n",
        "    distance = euclidean_distance(saved_embedding, new_embedding)\n",
        "\n",
        "    print(f\"Cosine Similarity: {similarity.item():.4f}\")\n",
        "    print(f\"Euclidean Distance: {distance.item():.4f}\")\n",
        "\n",
        "    if similarity > threshold:\n",
        "        print(f\"The embeddings are approximately close (similarity > {threshold}).\")\n",
        "    else:\n",
        "        print(f\"The embeddings are not very close (similarity <= {threshold}).\")"
      ],
      "metadata": {
        "id": "4pHVh0G2n1am"
      },
      "execution_count": null,
      "outputs": []
    },
    {
      "cell_type": "code",
      "source": [
        "npz_file = '/content/drive/MyDrive/multimodal_llm/image_embedding/coco_image_embeddings.npz'\n",
        "image_name = \"000000024380.jpg\"  # Replace with an actual image name from your dataset\n",
        "image_path = \"1.jpg\"  # Replace with the actual path to the image file\n",
        "compare_embeddings(npz_file, image_name, image_path)"
      ],
      "metadata": {
        "colab": {
          "base_uri": "https://localhost:8080/"
        },
        "id": "IXk8qW2Sn5dt",
        "outputId": "0cbb58e2-b775-47d8-a748-49b4ebde8a33"
      },
      "execution_count": null,
      "outputs": [
        {
          "output_type": "stream",
          "name": "stdout",
          "text": [
            "Cosine Similarity: 0.9951\n",
            "Euclidean Distance: 0.9849\n",
            "The embeddings are approximately close (similarity > 0.95).\n"
          ]
        }
      ]
    },
    {
      "cell_type": "code",
      "source": [],
      "metadata": {
        "id": "FeQ77yt0oSn2"
      },
      "execution_count": null,
      "outputs": []
    }
  ]
}