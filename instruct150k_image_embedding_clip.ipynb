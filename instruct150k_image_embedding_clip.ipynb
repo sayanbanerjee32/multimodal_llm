{
  "nbformat": 4,
  "nbformat_minor": 0,
  "metadata": {
    "colab": {
      "provenance": [],
      "gpuType": "T4",
      "authorship_tag": "ABX9TyMBJ3E1GRfhO15xLt8nxv1X",
      "include_colab_link": true
    },
    "kernelspec": {
      "name": "python3",
      "display_name": "Python 3"
    },
    "language_info": {
      "name": "python"
    },
    "accelerator": "GPU"
  },
  "cells": [
    {
      "cell_type": "markdown",
      "metadata": {
        "id": "view-in-github",
        "colab_type": "text"
      },
      "source": [
        "<a href=\"https://colab.research.google.com/github/sayanbanerjee32/multimodal_llm/blob/main/instruct150k_image_embedding_clip.ipynb\" target=\"_parent\"><img src=\"https://colab.research.google.com/assets/colab-badge.svg\" alt=\"Open In Colab\"/></a>"
      ]
    },
    {
      "cell_type": "code",
      "source": [
        "# %%capture\n",
        "# !pip install\n",
        "\n",
        "# !pip install torch\n",
        "# !pip install pillow\n",
        "!pip install git+https://github.com/openai/CLIP.git"
      ],
      "metadata": {
        "colab": {
          "base_uri": "https://localhost:8080/",
          "height": 758
        },
        "id": "-6qot3NeRIZL",
        "outputId": "e2da71b3-ea6f-4b46-db87-691d8a794368"
      },
      "execution_count": null,
      "outputs": [
        {
          "output_type": "stream",
          "name": "stdout",
          "text": [
            "Collecting git+https://github.com/openai/CLIP.git\n",
            "  Cloning https://github.com/openai/CLIP.git to /tmp/pip-req-build-c8e8moo3\n",
            "  Running command git clone --filter=blob:none --quiet https://github.com/openai/CLIP.git /tmp/pip-req-build-c8e8moo3\n",
            "  Resolved https://github.com/openai/CLIP.git to commit dcba3cb2e2827b402d2701e7e1c7d9fed8a20ef1\n",
            "  Preparing metadata (setup.py) ... \u001b[?25l\u001b[?25hdone\n",
            "Collecting ftfy (from clip==1.0)\n",
            "  Downloading ftfy-6.2.3-py3-none-any.whl.metadata (7.8 kB)\n",
            "Requirement already satisfied: packaging in /usr/local/lib/python3.10/dist-packages (from clip==1.0) (24.1)\n",
            "Requirement already satisfied: regex in /usr/local/lib/python3.10/dist-packages (from clip==1.0) (2024.5.15)\n",
            "Requirement already satisfied: tqdm in /usr/local/lib/python3.10/dist-packages (from clip==1.0) (4.66.5)\n",
            "Requirement already satisfied: torch in /usr/local/lib/python3.10/dist-packages (from clip==1.0) (2.4.0+cu121)\n",
            "Requirement already satisfied: torchvision in /usr/local/lib/python3.10/dist-packages (from clip==1.0) (0.19.0+cu121)\n",
            "Requirement already satisfied: wcwidth<0.3.0,>=0.2.12 in /usr/local/lib/python3.10/dist-packages (from ftfy->clip==1.0) (0.2.13)\n",
            "Requirement already satisfied: filelock in /usr/local/lib/python3.10/dist-packages (from torch->clip==1.0) (3.16.0)\n",
            "Requirement already satisfied: typing-extensions>=4.8.0 in /usr/local/lib/python3.10/dist-packages (from torch->clip==1.0) (4.12.2)\n",
            "Requirement already satisfied: sympy in /usr/local/lib/python3.10/dist-packages (from torch->clip==1.0) (1.13.2)\n",
            "Requirement already satisfied: networkx in /usr/local/lib/python3.10/dist-packages (from torch->clip==1.0) (3.3)\n",
            "Requirement already satisfied: jinja2 in /usr/local/lib/python3.10/dist-packages (from torch->clip==1.0) (3.1.4)\n",
            "Requirement already satisfied: fsspec in /usr/local/lib/python3.10/dist-packages (from torch->clip==1.0) (2024.6.1)\n",
            "Requirement already satisfied: numpy in /usr/local/lib/python3.10/dist-packages (from torchvision->clip==1.0) (1.26.4)\n",
            "Requirement already satisfied: pillow!=8.3.*,>=5.3.0 in /usr/local/lib/python3.10/dist-packages (from torchvision->clip==1.0) (9.4.0)\n",
            "Requirement already satisfied: MarkupSafe>=2.0 in /usr/local/lib/python3.10/dist-packages (from jinja2->torch->clip==1.0) (2.1.5)\n",
            "Requirement already satisfied: mpmath<1.4,>=1.1.0 in /usr/local/lib/python3.10/dist-packages (from sympy->torch->clip==1.0) (1.3.0)\n",
            "Downloading ftfy-6.2.3-py3-none-any.whl (43 kB)\n",
            "\u001b[2K   \u001b[90m━━━━━━━━━━━━━━━━━━━━━━━━━━━━━━━━━━━━━━━━\u001b[0m \u001b[32m43.0/43.0 kB\u001b[0m \u001b[31m2.3 MB/s\u001b[0m eta \u001b[36m0:00:00\u001b[0m\n",
            "\u001b[?25hBuilding wheels for collected packages: clip\n",
            "  Building wheel for clip (setup.py) ... \u001b[?25l\u001b[?25hdone\n",
            "  Created wheel for clip: filename=clip-1.0-py3-none-any.whl size=1369490 sha256=2af35160de075153c2db450ec820be7643a493345d80f7a7471e26c9d52eb35c\n",
            "  Stored in directory: /tmp/pip-ephem-wheel-cache-3eqz58hw/wheels/da/2b/4c/d6691fa9597aac8bb85d2ac13b112deb897d5b50f5ad9a37e4\n",
            "Successfully built clip\n",
            "Installing collected packages: ftfy, clip\n",
            "  Attempting uninstall: clip\n",
            "    Found existing installation: clip 0.2.0\n",
            "    Uninstalling clip-0.2.0:\n",
            "      Successfully uninstalled clip-0.2.0\n",
            "Successfully installed clip-1.0 ftfy-6.2.3\n"
          ]
        },
        {
          "output_type": "display_data",
          "data": {
            "application/vnd.colab-display-data+json": {
              "pip_warning": {
                "packages": [
                  "clip"
                ]
              },
              "id": "550c330bffb34e48830fb5044525cc62"
            }
          },
          "metadata": {}
        }
      ]
    },
    {
      "cell_type": "code",
      "source": [
        "# image and dataset downloads\n",
        "\n",
        "import subprocess\n",
        "\n",
        "# List of URLs to download\n",
        "urls = [\n",
        "    # \"https://huggingface.co/datasets/liuhaotian/LLaVA-Instruct-150K/resolve/main/complex_reasoning_77k.json\",\n",
        "    # \"https://huggingface.co/datasets/liuhaotian/LLaVA-Instruct-150K/resolve/main/conversation_58k.json\",\n",
        "    # \"https://huggingface.co/datasets/liuhaotian/LLaVA-Instruct-150K/resolve/main/detail_23k.json\",\n",
        "    \"https://huggingface.co/datasets/liuhaotian/LLaVA-Instruct-150K/resolve/main/llava_instruct_150k.json\",\n",
        "    # \"https://huggingface.co/datasets/liuhaotian/LLaVA-Instruct-150K/resolve/main/llava_instruct_80k.json\",\n",
        "    # \"https://huggingface.co/datasets/liuhaotian/LLaVA-Instruct-150K/resolve/main/llava_v1_5_mix665k.json\"\n",
        "]\n",
        "\n",
        "# Download each file\n",
        "for url in urls:\n",
        "    subprocess.run([\"wget\", \"-c\", url])\n",
        "\n",
        "print(\"All files have been downloaded.\")\n",
        "# Download and unzip the COCO train2017 dataset\n",
        "coco_url = \"http://images.cocodataset.org/zips/train2017.zip\"\n",
        "coco_zip = \"train2017.zip\"\n",
        "coco_dir = \"train2017\"\n",
        "\n",
        "print(\"Downloading COCO train2017 dataset...\")\n",
        "subprocess.run([\"wget\", \"-c\", coco_url])\n",
        "\n",
        "print(\"Unzipping the dataset...\")\n",
        "subprocess.run([\"unzip\", \"-q\", coco_zip])\n",
        "\n",
        "print(f\"COCO train2017 dataset has been downloaded and extracted to {coco_dir}/\")"
      ],
      "metadata": {
        "colab": {
          "base_uri": "https://localhost:8080/"
        },
        "id": "SRvVShrDieNE",
        "outputId": "8c2ed7d2-2899-40f5-a7f0-c5196c7e2759"
      },
      "execution_count": null,
      "outputs": [
        {
          "output_type": "stream",
          "name": "stdout",
          "text": [
            "All files have been downloaded.\n",
            "Downloading COCO train2017 dataset...\n",
            "Unzipping the dataset...\n",
            "COCO train2017 dataset has been downloaded and extracted to train2017/\n"
          ]
        }
      ]
    },
    {
      "cell_type": "code",
      "execution_count": null,
      "metadata": {
        "id": "NiCTg-JXQ5bj",
        "colab": {
          "base_uri": "https://localhost:8080/"
        },
        "collapsed": true,
        "outputId": "9029a5a7-a931-4dac-b005-983d10031ddb"
      },
      "outputs": [
        {
          "output_type": "stream",
          "name": "stdout",
          "text": [
            "Total unique images to process: 81479\n"
          ]
        }
      ],
      "source": [
        "import os\n",
        "import json\n",
        "import shutil\n",
        "from tqdm import tqdm\n",
        "\n",
        "# Create a directory to store the selected images\n",
        "selected_images_dir = \"selected_coco_images\"\n",
        "os.makedirs(selected_images_dir, exist_ok=True)\n",
        "\n",
        "# Function to extract image names from a JSON file\n",
        "def extract_image_names(json_file):\n",
        "    with open(json_file, 'r') as f:\n",
        "        data = json.load(f)\n",
        "    return set(item['image'] for item in data if 'image' in item)\n",
        "\n",
        "# Collect image names from all JSON files\n",
        "all_image_names = set()\n",
        "for url in urls:\n",
        "    json_file = url.split('/')[-1]\n",
        "    if os.path.exists(json_file):\n",
        "        all_image_names.update(extract_image_names(json_file))\n",
        "\n",
        "print(f\"Total unique images to process: {len(all_image_names)}\")"
      ]
    },
    {
      "cell_type": "code",
      "source": [
        "list(all_image_names)[-10:]"
      ],
      "metadata": {
        "colab": {
          "base_uri": "https://localhost:8080/"
        },
        "id": "Otcehxrsu1p-",
        "outputId": "a8cac8c2-e8a0-4f7b-a362-c945b890699d"
      },
      "execution_count": null,
      "outputs": [
        {
          "output_type": "execute_result",
          "data": {
            "text/plain": [
              "['000000549422.jpg',\n",
              " '000000115967.jpg',\n",
              " '000000282558.jpg',\n",
              " '000000335477.jpg',\n",
              " '000000288223.jpg',\n",
              " '000000110084.jpg',\n",
              " '000000422897.jpg',\n",
              " '000000391725.jpg',\n",
              " '000000251454.jpg',\n",
              " '000000275339.jpg']"
            ]
          },
          "metadata": {},
          "execution_count": 5
        }
      ]
    },
    {
      "cell_type": "code",
      "source": [
        "# Copy the selected images from coco_dir to selected_images_dir\n",
        "for image_name in tqdm(all_image_names, desc=\"Copying images\"):\n",
        "    src_path = os.path.join(coco_dir, image_name)\n",
        "    dst_path = os.path.join(selected_images_dir, image_name)\n",
        "    if os.path.exists(src_path):\n",
        "        shutil.copy2(src_path, dst_path)\n",
        "    else:\n",
        "        print(f\"Warning: Image {image_name} not found in {coco_dir}\")\n",
        "\n",
        "print(f\"Selected images have been copied to {selected_images_dir}/\")"
      ],
      "metadata": {
        "colab": {
          "base_uri": "https://localhost:8080/"
        },
        "id": "olOb_vNkn00f",
        "outputId": "40a80fdd-68f1-4e8e-9624-5dc04da5b8d2"
      },
      "execution_count": null,
      "outputs": [
        {
          "output_type": "stream",
          "name": "stderr",
          "text": [
            "Copying images: 100%|██████████| 81479/81479 [05:01<00:00, 270.44it/s]"
          ]
        },
        {
          "output_type": "stream",
          "name": "stdout",
          "text": [
            "Selected images have been copied to selected_coco_images/\n"
          ]
        },
        {
          "output_type": "stream",
          "name": "stderr",
          "text": [
            "\n"
          ]
        }
      ]
    },
    {
      "cell_type": "code",
      "source": [
        "# # Load Instruct 150k dataset from Hugging Face\n",
        "# dataset = load_dataset(\"liuhaotian/LLaVA-Instruct-150K\", split=\"train\")\n",
        "# print(dataset)"
      ],
      "metadata": {
        "id": "7Qqvl8c7RCZa"
      },
      "execution_count": null,
      "outputs": []
    },
    {
      "cell_type": "code",
      "source": [
        "import torch\n",
        "from PIL import Image\n",
        "# from torchvision.transforms import Compose, Resize, CenterCrop, ToTensor, Normalize\n",
        "from tqdm import tqdm\n",
        "import clip\n",
        "import numpy as np\n",
        "import os\n",
        "\n",
        "# Load the CLIP model\n",
        "device = \"cuda\" if torch.cuda.is_available() else \"cpu\"\n",
        "model, preprocess = clip.load(\"ViT-B/32\", device=device)\n",
        "\n",
        "# Define the image preprocessing pipeline\n",
        "# preprocess = Compose([\n",
        "#     Resize(224, interpolation=Image.BICUBIC),\n",
        "#     CenterCrop(224),\n",
        "#     ToTensor(),\n",
        "#     Normalize((0.48145466, 0.4578275, 0.40821073), (0.26862954, 0.26130258, 0.27577711)),\n",
        "# ])\n",
        "\n",
        "# Function to process an image and get its embedding\n",
        "def get_image_embedding(image_path):\n",
        "    image = Image.open(image_path).convert(\"RGB\")\n",
        "    image = preprocess(image).unsqueeze(0).to(device)\n",
        "    with torch.no_grad():\n",
        "        image_features = model.encode_image(image)\n",
        "    return image_features.cpu().numpy()\n",
        "\n",
        "# Process images and save embeddings\n",
        "embeddings = {}\n",
        "for image_name in tqdm(os.listdir(selected_images_dir), desc=\"Processing images\"):\n",
        "    image_path = os.path.join(selected_images_dir, image_name)\n",
        "    embedding = get_image_embedding(image_path)\n",
        "    embeddings[image_name] = embedding.squeeze()\n",
        "\n",
        "# Save embeddings\n",
        "embeddings_file = \"coco_image_embeddings.npz\"\n",
        "np.savez_compressed(embeddings_file, **embeddings)\n",
        "\n",
        "print(f\"Image embeddings have been processed and saved to {embeddings_file}\")"
      ],
      "metadata": {
        "id": "PrnZry5SEmMY",
        "colab": {
          "base_uri": "https://localhost:8080/"
        },
        "outputId": "01581bcb-30c7-487d-8700-93645edc3b84"
      },
      "execution_count": null,
      "outputs": [
        {
          "output_type": "stream",
          "name": "stderr",
          "text": [
            "Processing images: 100%|██████████| 81479/81479 [29:48<00:00, 45.55it/s]\n"
          ]
        },
        {
          "output_type": "stream",
          "name": "stdout",
          "text": [
            "Image embeddings have been processed and saved to coco_image_embeddings.npz\n"
          ]
        }
      ]
    },
    {
      "cell_type": "code",
      "source": [
        "# Save embeddings to Google Drive\n",
        "from google.colab import drive\n",
        "import os\n",
        "\n",
        "# Mount Google Drive\n",
        "drive.mount('/content/drive')\n",
        "\n",
        "# Define the directory path in Google Drive\n",
        "save_dir = '/content/drive/MyDrive/multimodel_llm/image_embedding'\n",
        "\n",
        "# Create the directory if it doesn't exist\n",
        "os.makedirs(save_dir, exist_ok=True)\n",
        "\n",
        "# Define the full path for saving the embeddings file\n",
        "embeddings_file_path = os.path.join(save_dir, embeddings_file)\n",
        "\n",
        "# Save the embeddings to Google Drive\n",
        "np.savez_compressed(embeddings_file_path, **embeddings)\n",
        "\n",
        "print(f\"Image embeddings have been saved to Google Drive: {embeddings_file_path}\")"
      ],
      "metadata": {
        "id": "1RZJZLaKRsms",
        "colab": {
          "base_uri": "https://localhost:8080/"
        },
        "outputId": "a4f90481-71a1-49f6-9b7e-594369579dc6"
      },
      "execution_count": null,
      "outputs": [
        {
          "output_type": "stream",
          "name": "stdout",
          "text": [
            "Mounted at /content/drive\n",
            "Image embeddings have been saved to Google Drive: /content/drive/MyDrive/multimodel_llm/image_embedding/coco_image_embeddings.npz\n"
          ]
        }
      ]
    },
    {
      "cell_type": "code",
      "source": [
        "import requests\n",
        "# Function to download the file\n",
        "def download_file(url, filename):\n",
        "    response = requests.get(url, stream=True)\n",
        "    total_size = int(response.headers.get('content-length', 0))\n",
        "    block_size = 1024  # 1 KB\n",
        "    progress_bar = tqdm(total=total_size, unit='iB', unit_scale=True)\n",
        "\n",
        "    with open(filename, 'wb') as file:\n",
        "        for data in response.iter_content(block_size):\n",
        "            size = file.write(data)\n",
        "            progress_bar.update(size)\n",
        "    progress_bar.close()\n",
        "\n",
        "\n",
        "# Download the file if it doesn't exist locally\n",
        "if not os.path.exists(embeddings_file):\n",
        "    print(f\"Downloading {embeddings_file}...\")\n",
        "    download_file(embeddings_file_path, embeddings_file)\n",
        "else:\n",
        "    print(f\"{embeddings_file} already exists. Skipping download.\")\n",
        "\n",
        "# Load the embeddings\n",
        "print(\"Loading embeddings...\")\n",
        "embeddings = np.load(embeddings_file, allow_pickle=True)\n",
        "\n",
        "# Print embeddings and image names\n",
        "for image_name, embedding in embeddings.items():\n",
        "    print(f\"Image: {image_name}\")\n",
        "    print(f\"Embedding shape: {embedding.shape}\")\n",
        "    print(f\"Embedding preview: {embedding[:5]}...\")  # Print first 5 values\n",
        "    print(\"-\" * 50)\n",
        "    break\n",
        "\n",
        "print(f\"Total number of embeddings: {len(embeddings)}\")"
      ],
      "metadata": {
        "id": "fodq0mq0wo-g",
        "colab": {
          "base_uri": "https://localhost:8080/"
        },
        "outputId": "becdb201-29f8-44cb-b4e2-de8ff45240f8"
      },
      "execution_count": null,
      "outputs": [
        {
          "output_type": "stream",
          "name": "stdout",
          "text": [
            "coco_image_embeddings.npz already exists. Skipping download.\n",
            "Loading embeddings...\n",
            "Image: 000000401144.jpg\n",
            "Embedding shape: (512,)\n",
            "Embedding preview: [-0.13     0.1564   0.02017  0.1678   0.2393 ]...\n",
            "--------------------------------------------------\n",
            "Total number of embeddings: 81479\n"
          ]
        }
      ]
    },
    {
      "cell_type": "code",
      "source": [],
      "metadata": {
        "id": "XRUKmQPb8Rl6"
      },
      "execution_count": null,
      "outputs": []
    }
  ]
}